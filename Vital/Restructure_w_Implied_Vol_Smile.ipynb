{
  "nbformat": 4,
  "nbformat_minor": 0,
  "metadata": {
    "colab": {
      "name": "Restructure w/ Implied Vol Smile.ipynb",
      "provenance": [],
      "collapsed_sections": [],
      "include_colab_link": true
    },
    "kernelspec": {
      "display_name": "Python 3",
      "language": "python",
      "name": "python3"
    },
    "language_info": {
      "codemirror_mode": {
        "name": "ipython",
        "version": 3
      },
      "file_extension": ".py",
      "mimetype": "text/x-python",
      "name": "python",
      "nbconvert_exporter": "python",
      "pygments_lexer": "ipython3",
      "version": "3.7.4"
    }
  },
  "cells": [
    {
      "cell_type": "markdown",
      "metadata": {
        "id": "view-in-github",
        "colab_type": "text"
      },
      "source": [
        "<a href=\"https://colab.research.google.com/github/vitaltavares/MQP2019/blob/master/Restructure_w_Implied_Vol_Smile.ipynb\" target=\"_parent\"><img src=\"https://colab.research.google.com/assets/colab-badge.svg\" alt=\"Open In Colab\"/></a>"
      ]
    },
    {
      "cell_type": "markdown",
      "metadata": {
        "colab_type": "text",
        "id": "89t4J6Dmd-Eo"
      },
      "source": [
        "# BSM formula\n",
        "\n",
        "## Abstract\n",
        "\n",
        "- create GBM class\n",
        "- define a method for BSM formula for a given option type"
      ]
    },
    {
      "cell_type": "markdown",
      "metadata": {
        "colab_type": "text",
        "id": "y5hyO8FseuLn"
      },
      "source": [
        "## Analysis\n",
        "\n",
        "BS model assumes the distribution of stock as lognormal. In particular, it writes \n",
        "$$\\ln \\frac{S(T)}{S(0)} \\sim \\mathcal N((r  - \\frac 1 2 \\sigma^2) T, \\sigma^2 T)$$\n",
        "with respect to risk neutral measure. In the above, the parameters stand for\n",
        "\n",
        "* $S(0)$: The initial stock price\n",
        "* $S(T)$: The stock price at $T$\n",
        "* $r$: interest rate\n",
        "* $\\sigma$: volatility\n",
        "\n"
      ]
    },
    {
      "cell_type": "markdown",
      "metadata": {
        "colab_type": "text",
        "id": "4BEWnmSve9oM"
      },
      "source": [
        "\n",
        "The call and put price with t $T$ and $K$ will be known as $C_0$ and $P_0$ given as below:\n",
        "$$C_0 = \\mathbb E [e^{-rT} (S(T) - K)^+] = S_0  \\Phi(d_1) - K e^{-rT} \\Phi(d_2),$$\n",
        "and \n",
        "$$P_0 = \\mathbb E [e^{-rT} (S(T) - K)^-] = K e^{-rT} \\Phi(- d_2) - S_0  \\Phi(- d_1),$$\n",
        "where $d_i$ are given as\n",
        "$$d_1 = \\frac{1}{\\sigma\\sqrt{\\left( T - t \\right)}}\n",
        "        \\left[\n",
        "          \\ln\\frac{S_{0}}{K}\n",
        "          +\n",
        "          \\left(\n",
        "            r + \\frac{\\sigma^2}{2}\n",
        "          \\right)\n",
        "          \\left(\n",
        "            T-t\n",
        "          \\right)\n",
        "        \\right],$$\n",
        "and\n",
        "$$d_2 = \\frac{1}{\\sigma\\sqrt{\\left( T - t \\right)}}\n",
        "        \\left[\n",
        "          \\ln\\frac{S_{0}}{K}\n",
        "          +\n",
        "          \\left(\n",
        "            r - \\frac{\\sigma^2}{2}\n",
        "          \\right)\n",
        "          \\left(\n",
        "            T-t\n",
        "          \\right)\n",
        "        \\right] = d_{1}-\\sigma\\sqrt{\\left( T - t \\right)}$$\n",
        "\n",
        "From $\\textit{Stochastic Calculus for Finance II Continuous Time Models}$ by Shreve\n",
        "\n",
        "\n",
        "Put-call parity will be useful:\n",
        "    $$C_0 - P_0 =  S(0) - e^{-rT} K.$$\n"
      ]
    },
    {
      "cell_type": "markdown",
      "metadata": {
        "colab_type": "text",
        "id": "mewOxcQJfFnT"
      },
      "source": [
        "## Code"
      ]
    },
    {
      "cell_type": "code",
      "metadata": {
        "colab_type": "code",
        "id": "RXd_brmsfEs9",
        "colab": {}
      },
      "source": [
        "import numpy as np\n",
        "import scipy.stats as ss\n",
        "from scipy.optimize import brentq\n",
        "import matplotlib.pyplot as plt\n"
      ],
      "execution_count": 0,
      "outputs": []
    },
    {
      "cell_type": "markdown",
      "metadata": {
        "colab_type": "text",
        "id": "M40EwMCkfS21"
      },
      "source": [
        "We reload the european option class created before."
      ]
    },
    {
      "cell_type": "code",
      "metadata": {
        "colab_type": "code",
        "id": "czvpqtvId_3D",
        "colab": {}
      },
      "source": [
        "\n",
        "class VanillaOption:\n",
        "  \n",
        "  \"\"\"\n",
        "  :param S: underlying\n",
        "  :param K: strike price\n",
        "  :param r: rate\n",
        "  :param t: time to expiration\n",
        "  :param vol: volatility\n",
        "\n",
        "  \"\"\"\n",
        "\n",
        "  def __init__(self,S,K,t,r, vol,otype = 1): \n",
        "    self.otype = otype\n",
        "    self.K = K\n",
        "    self.S = S\n",
        "    self.t = t\n",
        "    self.r = r\n",
        "    self.vol = vol\n",
        "  \n",
        "\n",
        "  \n",
        "  def payoff(self, S): #S: excercise price\n",
        "    otype = self.otype\n",
        "    S = self.strike\n",
        "    K = self.K\n",
        "    t = self.t\n",
        "\n",
        "    return np.max([0, (S - K)*otype])\n",
        "  \n",
        "  def bsm_price(self):\n",
        "    otype = self.otype\n",
        "    S = self.S\n",
        "    K = self.K\n",
        "    t = self.t\n",
        "    vol = self.vol\n",
        "    r = self.r\n",
        "\n",
        "    d1 = 1/(vol * np.sqrt(t))*(np.log(S/K) + (r + np.power(vol,2)/2)*(t)) # Need to be working with t minus current time t\n",
        "    d2 = d1 - (vol * np.sqrt(t)) #  But how do we get the current time t\n",
        "    \n",
        "    return (otype * S * ss.norm.cdf(otype * d1) - otype * K * np.exp(-r * t) * ss.norm.cdf(otype * d2))\n",
        "  \n",
        "  \n",
        "  def delta(self):\n",
        "    otype = self.otype\n",
        "    t = self.t\n",
        "    k = self.K\n",
        "    S = self.S\n",
        "    vol = self.vol\n",
        "    r = self.r\n",
        "    \n",
        "    d1 = 1/(vol*np.sqrt(t))*(np.log(S/k) + (r + np.power(vol,2)/2)*(t))\n",
        "    \n",
        "    if otype == 1:\n",
        "      return ss.norm.cdf(d1)\n",
        "    else:\n",
        "      return ss.norm.cdf(d1) - 1\n",
        "               \n",
        "    \n",
        "  def gamma(self):\n",
        "    otype = self.otype\n",
        "    t = self.t\n",
        "    k = self.K\n",
        "    \n",
        "    S = self.S\n",
        "    vol = self.vol\n",
        "    r = self.r\n",
        "\n",
        "    d1 = 1/(vol*np.sqrt(t))*(np.log(S/k) + (r + np.power(vol,2)/2)*(t))\n",
        "    \n",
        "    return ss.norm.pdf(d1) / (S * vol * np.sqrt(t))\n",
        "  \n",
        "  \n",
        "  def vega(self):\n",
        "    otype = self.otype\n",
        "    t = self.t\n",
        "    k = self.K\n",
        "    \n",
        "    S = self.S\n",
        "    vol = self.vol\n",
        "    r = self.r\n",
        "    \n",
        "    d1 = 1/(vol*np.sqrt(t))*(np.log(S/k) + (r + np.power(vol,2)/2)*(t))\n",
        "    \n",
        "    return ss.norm.pdf(d1) * np.sqrt(t)* S/ 100.0\n",
        "  \n",
        "  \n",
        "  def theta(self):\n",
        "    otype = self.otype\n",
        "    t = self.t\n",
        "    k = self.K\n",
        "    \n",
        "    S = self.S\n",
        "    vol = self.vol\n",
        "    r = self.vol\n",
        "  \n",
        "    \n",
        "    d1 = 1/(vol*np.sqrt(t))*(np.log(S/k) + (r + np.power(vol,2)/2)*(t))\n",
        "    d2 = 1/(vol*np.sqrt(t))*(np.log(S/k) + (r - np.power(vol,2)/2)*(t))\n",
        "    \n",
        "    if otype == 1:\n",
        "      return (-S * ss.norm.pdf(d1) * vol / (2 * np.sqrt(t))) - (r * k * np.exp(-r * t) * ss.norm.cdf(d2))\n",
        "    else:\n",
        "      return (-S * ss.norm.pdf(d1) * vol / (2 * np.sqrt(t))) + (r * k * np.exp(-r * t) * ss.norm.cdf(-d2))\n",
        "    \n",
        "    \n",
        "  def rho(self):\n",
        "    otype = self.otype\n",
        "    t = self.t\n",
        "    k = self.K\n",
        "    \n",
        "    S = self.S\n",
        "    vol = self.vol\n",
        "    r = self.r\n",
        "\n",
        "    \n",
        "    d2 = 1/(vol*np.sqrt(t))*(np.log(S/k) + (r - np.power(vol,2)/2)*(t))\n",
        "    \n",
        "    if otype == 1:\n",
        "      return k * ss.norm.cdf(d2) * t * np.exp(-r * t)\n",
        "    else:\n",
        "      return -k * ss.norm.cdf(-d2) * t * np.exp(-r * t)\n",
        "\n",
        " \n",
        "\n",
        " \n",
        "\n"
      ],
      "execution_count": 0,
      "outputs": []
    },
    {
      "cell_type": "markdown",
      "metadata": {
        "colab_type": "text",
        "id": "rdPRhkW0fhkn"
      },
      "source": [
        "Next, we create the gbm class, which is \n",
        "determined by three parameters. We shall initialize it\n",
        "as it  is created."
      ]
    },
    {
      "cell_type": "markdown",
      "metadata": {
        "colab_type": "text",
        "id": "6qcWtlDCgAO9"
      },
      "source": [
        "BSM formula is given by a method of Gbm class with an input of an option."
      ]
    },
    {
      "cell_type": "code",
      "metadata": {
        "colab_type": "code",
        "id": "iDswnsxjf_h5",
        "outputId": "8f1ecf33-3da7-44c6-a89a-0a1a27d45d87",
        "colab": {
          "base_uri": "https://localhost:8080/",
          "height": 51
        }
      },
      "source": [
        "'''===============\n",
        "Test bsm_price\n",
        "================='''\n",
        "\n",
        "# At the money option w/ 6 months to expiry\n",
        "option1 = VanillaOption(S= 100, K=100, t = 0.5, vol = 0.217, r = 0.019)\n",
        "print('>>>>>>>>>>call value is ' + str(option1.bsm_price()))\n",
        "option2 = VanillaOption(S= 100, K=100, t = 0.5, vol = 0.217, r = 0.019, otype=-1)\n",
        "print('>>>>>>>>>>put value is ' + str(option2.bsm_price()))"
      ],
      "execution_count": 13,
      "outputs": [
        {
          "output_type": "stream",
          "text": [
            ">>>>>>>>>>call value is 6.570935681182348\n",
            ">>>>>>>>>>put value is 5.625433925472393\n"
          ],
          "name": "stdout"
        }
      ]
    },
    {
      "cell_type": "code",
      "metadata": {
        "id": "WISFMhyayC2v",
        "colab_type": "code",
        "outputId": "8f11fc74-f928-44e3-ab8c-17afb7ab76be",
        "colab": {
          "base_uri": "https://localhost:8080/",
          "height": 153
        }
      },
      "source": [
        "'''===============\n",
        "Test Arbitrage Free Model\n",
        "================='''\n",
        "\n",
        "#Delta\n",
        "call_delta = option1.delta()\n",
        "put_delta = option2.delta()\n",
        "print(\">>>>>>The Call Delta is \" + str(call_delta))\n",
        "print(\">>>>>>The Put Delta is \" + str(put_delta))\n",
        "\n",
        "#Gamma\n",
        "option_gamma = option1.gamma()\n",
        "print(\">>>>>>The Option's Gamma is \" + str(option_gamma))\n",
        "\n",
        "#Vega\n",
        "option_vega = option1.vega()\n",
        "print(\">>>>>>The Option's Vega is \" + str(option_vega))\n",
        "\n",
        "#Theta\n",
        "call_theta = option1.theta()\n",
        "put_theta = option2.theta()\n",
        "print(\">>>>>>The Call Theta is \" + str(call_theta))\n",
        "print(\">>>>>>The Put Theta is \" + str(put_theta))\n",
        "\n",
        "#Rho\n",
        "call_rho = option1.rho()\n",
        "put_rho = option2.rho()\n",
        "print(\">>>>>>The Call Rho is \" + str(call_rho))\n",
        "print(\">>>>>>The Put Rho is \" + str(put_rho))\n"
      ],
      "execution_count": 14,
      "outputs": [
        {
          "output_type": "stream",
          "text": [
            ">>>>>>The Call Delta is 0.5551301787716723\n",
            ">>>>>>The Put Delta is -0.44486982122832774\n",
            ">>>>>>The Option's Gamma is 0.02575087042678005\n",
            ">>>>>>The Option's Vega is 0.27939694413056354\n",
            ">>>>>>The Call Theta is -18.827102541462136\n",
            ">>>>>>The Put Theta is 0.6416794760661366\n",
            ">>>>>>The Call Rho is 24.471041097992444\n",
            ">>>>>>The Put Rho is -25.05620802415258\n"
          ],
          "name": "stdout"
        }
      ]
    },
    {
      "cell_type": "code",
      "metadata": {
        "colab_type": "code",
        "id": "BrvYN7v0gWK5",
        "colab": {}
      },
      "source": [
        "###############\n",
        "# Arbitrage-Free Model Object-Oriented\n",
        "#############\n",
        "class ArbitrageFree:\n",
        "  def pc_parity(self, call_option, put_option):\n",
        "    call_price = call_option.bsm_price()\n",
        "    put_price = put_option.bsm_price()\n",
        "    k = call_option.K  #Note: Put and Call with same strike k\n",
        "    r = call_option.r     #and interest r\n",
        "    t = call_option.t #and t\n",
        "    s = call_option.S\n",
        "\n",
        "    #give some space for machine precision error\n",
        "    if call_price - put_price + np.exp(-r*t) - s<= 10^(-10): \n",
        "      return \">>>>>>>>>Option is arbitrage-free\"\n",
        "    else:\n",
        "      return \">>>>>>>>>Option is not arbitrage-free\"\n",
        "  \n",
        "  \n",
        "  "
      ],
      "execution_count": 0,
      "outputs": []
    },
    {
      "cell_type": "markdown",
      "metadata": {
        "id": "L9ftNyq1CeSt",
        "colab_type": "text"
      },
      "source": [
        ""
      ]
    },
    {
      "cell_type": "code",
      "metadata": {
        "id": "yJecYrdO4pWp",
        "colab_type": "code",
        "outputId": "b57764b6-44a5-43e6-d81c-53fa710954bd",
        "colab": {
          "base_uri": "https://localhost:8080/",
          "height": 34
        }
      },
      "source": [
        "'''===============\n",
        "Test Arbitrage Free\n",
        "================='''\n",
        "\n",
        "arbFree = ArbitrageFree()\n",
        "arbFree.pc_parity(option1,option2)"
      ],
      "execution_count": 16,
      "outputs": [
        {
          "output_type": "execute_result",
          "data": {
            "text/plain": [
              "'>>>>>>>>>Option is arbitrage-free'"
            ]
          },
          "metadata": {
            "tags": []
          },
          "execution_count": 16
        }
      ]
    },
    {
      "cell_type": "code",
      "metadata": {
        "id": "fljlDrT_zU9C",
        "colab_type": "code",
        "colab": {}
      },
      "source": [
        "class ImpliedVolatility:\n",
        "  def newtonImpliedVolCalc(self, vanillaoption, marketprice):\n",
        "    otype = vanillaoption.otype\n",
        "    t = vanillaoption.t\n",
        "    K=vanillaoption.K\n",
        "\n",
        "    r = vanillaoption.r\n",
        "    vol = vanillaoption.vol\n",
        "    S = vanillaoption.vol\n",
        "\n",
        "    d1 = 1/(vol*np.sqrt(t))*(np.log(S/K) + (r + np.power(vol,2)/2)*(t))\n",
        "    d2 = d1 - (vol*np.sqrt(t))\n",
        "\n",
        "    vega = vanillaoption.vega()\n",
        "    \n",
        "    optionprice = vanillaoption.bsm_price()\n",
        "  \n",
        "\n",
        "    tolerance = 0.000001\n",
        "    x0 = vol\n",
        "    xnew  = x0\n",
        "    xold = x0 - 1\n",
        "    \n",
        "    while abs(xnew - xold) > tolerance:\n",
        "      xold = xnew\n",
        "      xnew = xnew - ((marketprice - optionprice) / vega)\n",
        "      return abs(xnew)"
      ],
      "execution_count": 0,
      "outputs": []
    },
    {
      "cell_type": "code",
      "metadata": {
        "id": "6FeVJquU2RIv",
        "colab_type": "code",
        "outputId": "b3310997-dc44-4454-bebe-ed6baf269472",
        "colab": {
          "base_uri": "https://localhost:8080/",
          "height": 51
        }
      },
      "source": [
        "impliedVol = ImpliedVolatility()\n",
        "\n",
        "call_implied_vol = impliedVol.newtonImpliedVolCalc(option1,6.5706)\n",
        "print(\"Call implied vol is\", call_implied_vol)\n",
        "put_implied_vol = impliedVol.newtonImpliedVolCalc(option2, 5.6254)\n",
        "print(\"Put implied vol is\",put_implied_vol)"
      ],
      "execution_count": 18,
      "outputs": [
        {
          "output_type": "stream",
          "text": [
            "Call implied vol is 0.21820144901152402\n",
            "Put implied vol is 0.21712142392071854\n"
          ],
          "name": "stdout"
        }
      ]
    },
    {
      "cell_type": "code",
      "metadata": {
        "id": "WUxGg_uncjRB",
        "colab_type": "code",
        "colab": {}
      },
      "source": [
        "marketpriceCall = 6.57\n",
        "marketpricePut = 5.62\n",
        "\n",
        "\n",
        "impliedVolCallArray = []\n",
        "x_call_array = []\n",
        "for i in range(int(100*(marketpriceCall-3.0)), int(100*(marketpricePut+3.0)), 1):\n",
        "  k = i * (0.01)\n",
        "  x_call_array.append(k)\n",
        "  impliedVolCallArray.append(impliedVol.newtonImpliedVolCalc(option1, k))\n",
        "\n",
        "impliedVolPutArray = []\n",
        "x_put_array = []\n",
        "for i in range(int(100*(marketpricePut-3.0)), int(100*(marketpricePut+3.0)), 1):\n",
        "  k = float(i) * (0.01)\n",
        "  x_put_array.append(k)\n",
        "  impliedVolPutArray.append(impliedVol.newtonImpliedVolCalc(option2, k))\n",
        "\n"
      ],
      "execution_count": 0,
      "outputs": []
    },
    {
      "cell_type": "code",
      "metadata": {
        "id": "frS3wKGy-IgF",
        "colab_type": "code",
        "colab": {
          "base_uri": "https://localhost:8080/",
          "height": 282
        },
        "outputId": "1f014f98-5b37-4804-f3b5-3de519fabdb6"
      },
      "source": [
        "plt.plot(x_call_array, impliedVolCallArray)"
      ],
      "execution_count": 20,
      "outputs": [
        {
          "output_type": "execute_result",
          "data": {
            "text/plain": [
              "[<matplotlib.lines.Line2D at 0x7f40f4114668>]"
            ]
          },
          "metadata": {
            "tags": []
          },
          "execution_count": 20
        },
        {
          "output_type": "display_data",
          "data": {
            "image/png": "[encoded data removed]",
            "text/plain": [
              "<Figure size 432x288 with 1 Axes>"
            ]
          },
          "metadata": {
            "tags": []
          }
        }
      ]
    }
  ]
}
