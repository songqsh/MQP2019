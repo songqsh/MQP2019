{
  "nbformat": 4,
  "nbformat_minor": 0,
  "metadata": {
    "colab": {
      "name": "ImpliedVol_v01.ipynb",
      "provenance": [],
      "collapsed_sections": [],
      "include_colab_link": true
    },
    "kernelspec": {
      "display_name": "Python 3",
      "language": "python",
      "name": "python3"
    },
    "language_info": {
      "codemirror_mode": {
        "name": "ipython",
        "version": 3
      },
      "file_extension": ".py",
      "mimetype": "text/x-python",
      "name": "python",
      "nbconvert_exporter": "python",
      "pygments_lexer": "ipython3",
      "version": "3.7.4"
    }
  },
  "cells": [
    {
      "cell_type": "markdown",
      "metadata": {
        "id": "view-in-github",
        "colab_type": "text"
      },
      "source": [
        "<a href=\"https://colab.research.google.com/github/vitaltavares/MQP2019/blob/master/ImpliedVol_v02.ipynb\" target=\"_parent\"><img src=\"https://colab.research.google.com/assets/colab-badge.svg\" alt=\"Open In Colab\"/></a>"
      ]
    },
    {
      "cell_type": "markdown",
      "metadata": {
        "colab_type": "text",
        "id": "89t4J6Dmd-Eo"
      },
      "source": [
        "# BSM formula\n",
        "\n",
        "## Abstract\n",
        "\n",
        "- create GBM class\n",
        "- define a method for BSM formula for a given option type"
      ]
    },
    {
      "cell_type": "markdown",
      "metadata": {
        "colab_type": "text",
        "id": "y5hyO8FseuLn"
      },
      "source": [
        "## Analysis\n",
        "\n",
        "BS model assumes the distribution of stock as lognormal. In particular, it writes \n",
        "$$\\ln \\frac{S(T)}{S(0)} \\sim \\mathcal N((r  - \\frac 1 2 \\sigma^2) T, \\sigma^2 T)$$\n",
        "with respect to risk neutral measure. In the above, the parameters stand for\n",
        "\n",
        "* $S(0)$: The initial stock price\n",
        "* $S(T)$: The stock price at $T$\n",
        "* $r$: interest rate\n",
        "* $\\sigma$: volatility\n",
        "\n"
      ]
    },
    {
      "cell_type": "markdown",
      "metadata": {
        "colab_type": "text",
        "id": "4BEWnmSve9oM"
      },
      "source": [
        "\n",
        "The call and put price with maturity $T$ and $K$ will be known as $C_0$ and $P_0$ given as below:\n",
        "$$C_0 = \\mathbb E [e^{-rT} (S(T) - K)^+] = S_0  \\Phi(d_1) - K e^{-rT} \\Phi(d_2),$$\n",
        "and \n",
        "$$P_0 = \\mathbb E [e^{-rT} (S(T) - K)^-] = K e^{-rT} \\Phi(- d_2) - S_0  \\Phi(- d_1),$$\n",
        "where $d_i$ are given as\n",
        "$$d_1 = \\frac{1}{\\sigma\\sqrt{\\left( T - t \\right)}}\n",
        "        \\left[\n",
        "          \\ln\\frac{S_{0}}{K}\n",
        "          +\n",
        "          \\left(\n",
        "            r + \\frac{\\sigma^2}{2}\n",
        "          \\right)\n",
        "          \\left(\n",
        "            T-t\n",
        "          \\right)\n",
        "        \\right],$$\n",
        "and\n",
        "$$d_2 = \\frac{1}{\\sigma\\sqrt{\\left( T - t \\right)}}\n",
        "        \\left[\n",
        "          \\ln\\frac{S_{0}}{K}\n",
        "          +\n",
        "          \\left(\n",
        "            r - \\frac{\\sigma^2}{2}\n",
        "          \\right)\n",
        "          \\left(\n",
        "            T-t\n",
        "          \\right)\n",
        "        \\right] = d_{1}-\\sigma\\sqrt{\\left( T - t \\right)}$$\n",
        "\n",
        "From $\\textit{Stochastic Calculus for Finance II Continuous Time Models}$ by Shreve\n",
        "\n",
        "\n",
        "Put-call parity will be useful:\n",
        "    $$C_0 - P_0 =  S(0) - e^{-rT} K.$$\n"
      ]
    },
    {
      "cell_type": "markdown",
      "metadata": {
        "colab_type": "text",
        "id": "mewOxcQJfFnT"
      },
      "source": [
        "## Code"
      ]
    },
    {
      "cell_type": "code",
      "metadata": {
        "colab_type": "code",
        "id": "RXd_brmsfEs9",
        "colab": {}
      },
      "source": [
        "import numpy as np\n",
        "import scipy.stats as ss"
      ],
      "execution_count": 0,
      "outputs": []
    },
    {
      "cell_type": "markdown",
      "metadata": {
        "colab_type": "text",
        "id": "M40EwMCkfS21"
      },
      "source": [
        "We reload the european option class created before."
      ]
    },
    {
      "cell_type": "code",
      "metadata": {
        "colab_type": "code",
        "id": "czvpqtvId_3D",
        "colab": {}
      },
      "source": [
        "'''=========\n",
        "option class init\n",
        "=========='''\n",
        "class VanillaOption:\n",
        "    def __init__(\n",
        "        self,\n",
        "        otype = 1, # 1: 'call'\n",
        "                  # -1: 'put'\n",
        "        strike = 110.,\n",
        "        maturity = 1.,\n",
        "        market_price = 10.):\n",
        "      self.otype = otype\n",
        "      self.strike = strike\n",
        "      self.maturity = maturity\n",
        "      self.market_price = market_price #this will be used for calibration\n",
        "      \n",
        "        \n",
        "    def payoff(self, s): #s: excercise price\n",
        "      otype = self.otype\n",
        "      k = self.strike\n",
        "      maturity = self.maturity\n",
        "      return np.max([0, (s - k)*otype])\n",
        "    "
      ],
      "execution_count": 0,
      "outputs": []
    },
    {
      "cell_type": "markdown",
      "metadata": {
        "colab_type": "text",
        "id": "rdPRhkW0fhkn"
      },
      "source": [
        "Next, we create the gbm class, which is \n",
        "determined by three parameters. We shall initialize it\n",
        "as it  is created."
      ]
    },
    {
      "cell_type": "code",
      "metadata": {
        "colab_type": "code",
        "id": "CQbFAFX-fYuw",
        "colab": {}
      },
      "source": [
        "'''============\n",
        "Gbm class inherited from sde_1d\n",
        "============='''\n",
        "\n",
        "class Gbm:\n",
        "    def __init__(self,\n",
        "                 init_state = 100.,\n",
        "                 drift_ratio = .0475,\n",
        "                 vol_ratio = .2\n",
        "                ):\n",
        "        self.init_state = init_state\n",
        "        self.drift_ratio = drift_ratio\n",
        "        self.vol_ratio = vol_ratio"
      ],
      "execution_count": 0,
      "outputs": []
    },
    {
      "cell_type": "markdown",
      "metadata": {
        "colab_type": "text",
        "id": "6qcWtlDCgAO9"
      },
      "source": [
        "BSM formula is given by a method of Gbm class with an input of an option."
      ]
    },
    {
      "cell_type": "code",
      "metadata": {
        "colab_type": "code",
        "id": "KTFuh0GIfpOW",
        "colab": {}
      },
      "source": [
        "'''========\n",
        "Black-Scholes-Merton formula. \n",
        "=========='''\n",
        "\n",
        "def bsm_price(self, vanilla_option):\n",
        "    s0 = self.init_state\n",
        "    sigma = self.vol_ratio\n",
        "    r = self.drift_ratio\n",
        "    \n",
        "    otype = vanilla_option.otype\n",
        "    k = vanilla_option.strike\n",
        "    maturity = vanilla_option.maturity\n",
        "    \n",
        "    d1 = 1/(sigma*np.sqrt(maturity))*(np.log(s0/k) + (r + np.power(sigma,2)/2)*(maturity)) # Need to be working with maturity minus current time t\n",
        "    d2 = 1/(sigma*np.sqrt(maturity))*(np.log(s0/k) + (r - np.power(sigma,2)/2)*(maturity)) #  But how do we get the current time t\n",
        "    \n",
        "    return (otype * s0 * ss.norm.cdf(otype * d1) #line break needs parenthesis\n",
        "            - otype * np.exp(-r * maturity) * k * ss.norm.cdf(otype * d2))\n",
        "\n",
        "Gbm.bsm_price = bsm_price"
      ],
      "execution_count": 0,
      "outputs": []
    },
    {
      "cell_type": "code",
      "metadata": {
        "colab_type": "code",
        "id": "iDswnsxjf_h5",
        "outputId": "7f25d7d7-9001-4231-f93b-dec61e3d47f5",
        "colab": {
          "base_uri": "https://localhost:8080/",
          "height": 51
        }
      },
      "source": [
        "'''===============\n",
        "Test bsm_price\n",
        "================='''\n",
        "gbm1 = Gbm()\n",
        "option1 = VanillaOption()\n",
        "print('>>>>>>>>>>call value is ' + str(gbm1.bsm_price(option1)))\n",
        "option2 = VanillaOption(otype=-1)\n",
        "print('>>>>>>>>>>put value is ' + str(gbm1.bsm_price(option2)))\n"
      ],
      "execution_count": 18,
      "outputs": [
        {
          "output_type": "stream",
          "text": [
            ">>>>>>>>>>call value is 5.943273183452845\n",
            ">>>>>>>>>>put value is 10.84042522804176\n"
          ],
          "name": "stdout"
        }
      ]
    },
    {
      "cell_type": "code",
      "metadata": {
        "colab_type": "code",
        "id": "BrvYN7v0gWK5",
        "colab": {}
      },
      "source": [
        "###############\n",
        "# Arbitrage-Free Model Object-Oriented\n",
        "#############\n",
        "\n",
        "class ArbitrageFree:\n",
        "  def pc_parity(self, vanilla_option1, vanilla_option2, gbm):\n",
        "    \n",
        "    call_price = gbm.bsm_price(vanilla_option1)\n",
        "    put_price = gbm.bsm_price(vanilla_option2)\n",
        "    k = vanilla_option1.strike  #Note: Put and Call with same strike k\n",
        "    r = gbm.drift_ratio     #and interest r\n",
        "    maturity = vanilla_option1.maturity #and maturity\n",
        "    s0 = gbm.init_state\n",
        "\n",
        "    #give some space for machine precision error\n",
        "    if call_price - put_price + np.exp(-(r*maturity)) - s0 <= 10^(-10): \n",
        "      return \">>>>>>>>>Option is arbitrage-free\"\n",
        "    else:\n",
        "      return \">>>>>>>>>Option is not arbitrage-free\"\n",
        "  \n",
        "  \n",
        "  "
      ],
      "execution_count": 0,
      "outputs": []
    },
    {
      "cell_type": "markdown",
      "metadata": {
        "id": "L9ftNyq1CeSt",
        "colab_type": "text"
      },
      "source": [
        ""
      ]
    },
    {
      "cell_type": "code",
      "metadata": {
        "id": "yJecYrdO4pWp",
        "colab_type": "code",
        "outputId": "ee731ef6-807c-47d3-c6f5-77ab467482d7",
        "colab": {
          "base_uri": "https://localhost:8080/",
          "height": 34
        }
      },
      "source": [
        "'''===============\n",
        "Test Arbitrage Free Model\n",
        "================='''\n",
        "\n",
        "arb_free = ArbitrageFree()\n",
        "arb_free.pc_parity(option1, option2, gbm1)"
      ],
      "execution_count": 20,
      "outputs": [
        {
          "output_type": "execute_result",
          "data": {
            "text/plain": [
              "'>>>>>>>>>Option is arbitrage-free'"
            ]
          },
          "metadata": {
            "tags": []
          },
          "execution_count": 20
        }
      ]
    },
    {
      "cell_type": "code",
      "metadata": {
        "id": "E1KVXPbKxzfN",
        "colab_type": "code",
        "colab": {}
      },
      "source": [
        "'''===============\n",
        "Define Greeks\n",
        "================='''\n",
        "\n",
        "class Greek:\n",
        "  \n",
        "  #First time the current price of stock will affect equation\n",
        "  #Choose arbitrary price of 112\n",
        "  def __init__(self, s = 112.):\n",
        "    self.s = s\n",
        "               \n",
        "             \n",
        "  def delta(self,vanilla_option, gbm):\n",
        "    otype = vanilla_option.otype\n",
        "    maturity = vanilla_option.maturity\n",
        "    k = vanilla_option.strike\n",
        "    \n",
        "    s0 = gbm.init_state\n",
        "    sigma = gbm.vol_ratio\n",
        "    r = gbm.drift_ratio\n",
        "    \n",
        "    d1 = 1/(sigma*np.sqrt(maturity))*(np.log(s0/k) + (r + np.power(sigma,2)/2)*(maturity))\n",
        "    \n",
        "    if otype == 1:\n",
        "      return ss.norm.cdf(d1)\n",
        "    else:\n",
        "      return ss.norm.cdf(d1) - 1\n",
        "               \n",
        "    \n",
        "  def gamma(self,vanilla_option, gbm):\n",
        "    otype = vanilla_option.otype\n",
        "    maturity = vanilla_option.maturity\n",
        "    k = vanilla_option.strike\n",
        "    \n",
        "    s0 = gbm.init_state\n",
        "    sigma = gbm.vol_ratio\n",
        "    r = gbm.drift_ratio\n",
        "    \n",
        "    s = self.s\n",
        "    \n",
        "    d1 = 1/(sigma*np.sqrt(maturity))*(np.log(s0/k) + (r + np.power(sigma,2)/2)*(maturity))\n",
        "    \n",
        "    return ss.norm.pdf(d1) / (s * sigma * np.sqrt(maturity))\n",
        "  \n",
        "  \n",
        "  def vega(self,vanilla_option, gbm):\n",
        "    otype = vanilla_option.otype\n",
        "    maturity = vanilla_option.maturity\n",
        "    k = vanilla_option.strike\n",
        "    \n",
        "    s0 = gbm.init_state\n",
        "    sigma = gbm.vol_ratio\n",
        "    r = gbm.drift_ratio\n",
        "    \n",
        "    s = self.s\n",
        "    \n",
        "    d1 = 1/(sigma*np.sqrt(maturity))*(np.log(s0/k) + (r + np.power(sigma,2)/2)*(maturity))\n",
        "    \n",
        "    return ss.norm.pdf(d1) * s * np.sqrt(maturity)\n",
        "  \n",
        "  \n",
        "  def theta(self,vanilla_option, gbm):\n",
        "    otype = vanilla_option.otype\n",
        "    maturity = vanilla_option.maturity\n",
        "    k = vanilla_option.strike\n",
        "    \n",
        "    s0 = gbm.init_state\n",
        "    sigma = gbm.vol_ratio\n",
        "    r = gbm.drift_ratio\n",
        "    \n",
        "    s = self.s\n",
        "    \n",
        "    d1 = 1/(sigma*np.sqrt(maturity))*(np.log(s0/k) + (r + np.power(sigma,2)/2)*(maturity))\n",
        "    d2 = 1/(sigma*np.sqrt(maturity))*(np.log(s0/k) + (r - np.power(sigma,2)/2)*(maturity))\n",
        "    \n",
        "    if otype == 1:\n",
        "      return (-s * ss.norm.pdf(d1) * sigma / (2 * np.sqrt(maturity))) - (r * k * np.exp(-r * maturity) * ss.norm.cdf(d2))\n",
        "    else:\n",
        "      return (-s * ss.norm.pdf(d1) * sigma / (2 * np.sqrt(maturity))) + (r * k * np.exp(-r * maturity) * ss.norm.cdf(-d2))\n",
        "    \n",
        "    \n",
        "  def rho(self,vanilla_option, gbm):\n",
        "    otype = vanilla_option.otype\n",
        "    maturity = vanilla_option.maturity\n",
        "    k = vanilla_option.strike\n",
        "    \n",
        "    s0 = gbm.init_state\n",
        "    sigma = gbm.vol_ratio\n",
        "    r = gbm.drift_ratio\n",
        "    \n",
        "    s = self.s\n",
        "    \n",
        "    d2 = 1/(sigma*np.sqrt(maturity))*(np.log(s0/k) + (r - np.power(sigma,2)/2)*(maturity))\n",
        "    \n",
        "    if otype == 1:\n",
        "      return k * ss.norm.cdf(d2) * maturity * np.exp(-r * maturity)\n",
        "    else:\n",
        "      return -k * ss.norm.cdf(-d2) * maturity * np.exp(-r * maturity)"
      ],
      "execution_count": 0,
      "outputs": []
    },
    {
      "cell_type": "code",
      "metadata": {
        "id": "WISFMhyayC2v",
        "colab_type": "code",
        "outputId": "be258289-10e9-474c-c320-593fedc34e66",
        "colab": {
          "base_uri": "https://localhost:8080/",
          "height": 153
        }
      },
      "source": [
        "'''===============\n",
        "Test Arbitrage Free Model\n",
        "================='''\n",
        "greek = Greek()\n",
        "\n",
        "#Delta\n",
        "call_delta = greek.delta(option1, gbm1)\n",
        "put_delta = greek.delta(option2, gbm1)\n",
        "print(\">>>>>>The Call Delta is \" + str(call_delta))\n",
        "print(\">>>>>>The Put Delta is \" + str(put_delta))\n",
        "\n",
        "#Gamma\n",
        "option_gamma = greek.gamma(option1,gbm1)\n",
        "print(\">>>>>>The Option's Gamma is \" + str(option_gamma))\n",
        "\n",
        "#Vega\n",
        "option_vega = greek.vega(option1, gbm1)\n",
        "print(\">>>>>>The Option's Vega is \" + str(option_vega))\n",
        "\n",
        "#Theta\n",
        "call_theta = greek.theta(option1, gbm1)\n",
        "put_theta = greek.theta(option2, gbm1)\n",
        "print(\">>>>>>The Call Theta is \" + str(call_theta))\n",
        "print(\">>>>>>The Put Theta is \" + str(put_theta))\n",
        "\n",
        "#Rho\n",
        "call_rho = greek.rho(option1, gbm1)\n",
        "put_rho = greek.rho(option2, gbm1)\n",
        "print(\">>>>>>The Call Rho is \" + str(call_rho))\n",
        "print(\">>>>>>The Put Rho is \" + str(put_rho))\n"
      ],
      "execution_count": 22,
      "outputs": [
        {
          "output_type": "stream",
          "text": [
            ">>>>>>The Call Delta is 0.44470496404281507\n",
            ">>>>>>The Put Delta is -0.5552950359571849\n",
            ">>>>>>The Option's Gamma is 0.01763857404142207\n",
            ">>>>>>The Option's Vega is 44.25165455511969\n",
            ">>>>>>The Call Theta is -6.25520855850133\n",
            ">>>>>>The Put Theta is -1.2725938363833578\n",
            ">>>>>>The Call Rho is 38.52722322082866\n",
            ">>>>>>The Put Rho is -66.36992882376025\n"
          ],
          "name": "stdout"
        }
      ]
    },
    {
      "cell_type": "code",
      "metadata": {
        "id": "Fudf6_jvY50G",
        "colab_type": "code",
        "colab": {}
      },
      "source": [
        "'''===============\n",
        "Implied Volatility Calculation through Newton Method divident paying asset\n",
        "================='''\n",
        "\n",
        "class ImpliedVolatility:\n",
        "  def __init__(self, q=0):\n",
        "    self.q = q\n",
        "  \n",
        "  def newtonImpliedVolCalc(self, vanillaoption, gbm, greek, marketprice):\n",
        "    otype = vanillaoption.otype\n",
        "    maturity = vanillaoption.maturity\n",
        "    k=vanillaoption.strike\n",
        "\n",
        "    r = gbm.drift_ratio\n",
        "    sigma = gbm.vol_ratio\n",
        "    s0 = gbm.init_state\n",
        "\n",
        "    d1 = 1/(sigma*np.sqrt(maturity))*(np.log(s0/k) + (r + np.power(sigma,2)/2)*(maturity))\n",
        "    d2 = 1/(sigma*np.sqrt(maturity))*(np.log(s0/k) + (r - np.power(sigma,2)/2)*(maturity))\n",
        "\n",
        "    vega = greek.vega(vanillaoption, gbm)\n",
        "    \n",
        "    optionprice = gbm.bsm_price(vanillaoption)\n",
        "  \n",
        "\n",
        "    tolerance = 0.000001\n",
        "    x0 = sigma\n",
        "    xnew  = x0\n",
        "    xold = x0 - 1\n",
        "    \n",
        "    while abs(xnew - xold) > tolerance:\n",
        "      xold = xnew\n",
        "      xnew = (xnew - optionprice - marketprice) / vega\n",
        "      return abs(xnew)\n",
        "\n",
        "    \n",
        "\n",
        "\n",
        "    \n",
        "\n",
        "\n"
      ],
      "execution_count": 0,
      "outputs": []
    },
    {
      "cell_type": "code",
      "metadata": {
        "id": "jPBYQBmPYcWe",
        "colab_type": "code",
        "outputId": "06881893-4299-4f58-81a2-a56a58e054a7",
        "colab": {
          "base_uri": "https://localhost:8080/",
          "height": 51
        }
      },
      "source": [
        "'''===============\n",
        "Test Arbitrage Free Model\n",
        "================='''\n",
        "\n",
        "impliedVol = ImpliedVolatility()\n",
        "\n",
        "impliedVolCall = impliedVol.newtonImpliedVolCalc(option1, gbm1, greek, 7.)\n",
        "impliedVolPut = impliedVol.newtonImpliedVolCalc(option2, gbm1, greek, 11.2)\n",
        "\n",
        "print('>>>>>>>>> The Implied Volatility of the Call Option is' + str(impliedVolCall))\n",
        "print('>>>>>>>>> The Implied Volatility of the Put Option is' + str(impliedVolPut))"
      ],
      "execution_count": 27,
      "outputs": [
        {
          "output_type": "stream",
          "text": [
            ">>>>>>>>> The Implied Volatility of the Call Option is0.28797280715413415\n",
            ">>>>>>>>> The Implied Volatility of the Put Option is0.4935504773236763\n"
          ],
          "name": "stdout"
        }
      ]
    },
    {
      "cell_type": "code",
      "metadata": {
        "id": "WUxGg_uncjRB",
        "colab_type": "code",
        "colab": {}
      },
      "source": [
        ""
      ],
      "execution_count": 0,
      "outputs": []
    }
  ]
}
